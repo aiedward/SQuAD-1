{
 "cells": [
  {
   "cell_type": "code",
   "execution_count": 1,
   "metadata": {
    "collapsed": true
   },
   "outputs": [],
   "source": [
    "import sys\n",
    "stdout = sys.stdout\n",
    "\n",
    "%load_ext autoreload\n",
    "%autoreload 2\n",
    "%matplotlib inline \n",
    "\n",
    "import os\n",
    "import json, time\n",
    "import tensorflow as tf\n",
    "import matplotlib.pyplot as plt\n",
    "import evaluate\n",
    "import numpy as np\n",
    "import pickle\n",
    "\n",
    "from nltk import FreqDist\n",
    "from qa_model import QAModel\n",
    "from vocab import get_glove\n",
    "from official_eval_helper import get_json_data, generate_answers\n",
    "from operator import add\n",
    "\n",
    "sys.setdefaultencoding('utf-8')\n",
    "sys.stdout = stdout"
   ]
  },
  {
   "cell_type": "code",
   "execution_count": 2,
   "metadata": {},
   "outputs": [
    {
     "name": "stdout",
     "output_type": "stream",
     "text": [
      "Reading data from ../data/dev-v1.1.json...\n",
      "Preprocessing data from ../data/dev-v1.1.json...\n",
      "Finished preprocessing. Got 10570 examples from ../data/dev-v1.1.json\n"
     ]
    }
   ],
   "source": [
    "json_file = '../data/dev-v1.1.json'\n",
    "qn_uuid_data, context_token_data, qn_token_data = get_json_data(json_file)"
   ]
  },
  {
   "cell_type": "code",
   "execution_count": 3,
   "metadata": {},
   "outputs": [
    {
     "data": {
      "text/plain": [
       "10570"
      ]
     },
     "execution_count": 3,
     "metadata": {},
     "output_type": "execute_result"
    }
   ],
   "source": [
    "questions = [\" \".join(q) for q in qn_token_data]\n",
    "contexts  = [\" \".join(c) for c in context_token_data]\n",
    "len(questions)"
   ]
  },
  {
   "cell_type": "code",
   "execution_count": 4,
   "metadata": {},
   "outputs": [
    {
     "data": {
      "text/plain": [
       "[(u'what is', 967),\n",
       " (u'how many', 543),\n",
       " (u'what was', 542),\n",
       " (u'what did', 376),\n",
       " (u'when did', 338),\n",
       " (u'when was', 243),\n",
       " (u'in what', 243),\n",
       " (u'what does', 221),\n",
       " (u'who was', 210),\n",
       " (u'what type', 193),\n",
       " (u'what are', 189),\n",
       " (u'how much', 138),\n",
       " (u'what do', 123),\n",
       " (u'where did', 123),\n",
       " (u'who did', 109),\n",
       " (u'who is', 97),\n",
       " (u'where was', 89),\n",
       " (u'what kind', 88),\n",
       " (u'how did', 79),\n",
       " (u'what year', 71)]"
      ]
     },
     "execution_count": 4,
     "metadata": {},
     "output_type": "execute_result"
    }
   ],
   "source": [
    "# what are the most common ways to begin questions\n",
    "N = 20\n",
    "question_starts = [\" \".join(q) for q in [q.split()[:2] for q in questions]]\n",
    "fd = FreqDist(question_starts)\n",
    "most_common = fd.most_common(N)\n",
    "least_common = fd.most_common()[-N:]\n",
    "most_common"
   ]
  },
  {
   "cell_type": "code",
   "execution_count": 5,
   "metadata": {
    "collapsed": true
   },
   "outputs": [],
   "source": [
    "prediction_file = 'predictions.json'\n",
    "with open(prediction_file) as prediction_file:\n",
    "    predictions = json.load(prediction_file)"
   ]
  },
  {
   "cell_type": "code",
   "execution_count": 6,
   "metadata": {
    "collapsed": true
   },
   "outputs": [],
   "source": [
    "with open(json_file) as jf:\n",
    "    dataset_json = json.load(jf)"
   ]
  },
  {
   "cell_type": "code",
   "execution_count": 7,
   "metadata": {},
   "outputs": [
    {
     "data": {
      "text/plain": [
       "{'exact_match': 60.00946073793756, 'f1': 70.99408517205993}"
      ]
     },
     "execution_count": 7,
     "metadata": {},
     "output_type": "execute_result"
    }
   ],
   "source": [
    "evaluate.evaluate(dataset_json['data'], predictions)"
   ]
  },
  {
   "cell_type": "code",
   "execution_count": 8,
   "metadata": {
    "collapsed": true
   },
   "outputs": [],
   "source": [
    "def find(lst, a):\n",
    "    return [i for i, x in enumerate(lst) if x==a]\n",
    "\n",
    "def getIdx(main_list, indexes):\n",
    "    return [main_list[x] for x in indexes]"
   ]
  },
  {
   "cell_type": "code",
   "execution_count": 9,
   "metadata": {
    "collapsed": true
   },
   "outputs": [],
   "source": [
    "ids = [[] for i in range(N)]\n",
    "for cnt,mc in enumerate(most_common):\n",
    "    ids[cnt] = getIdx(qn_uuid_data, find(question_starts,mc[0]))"
   ]
  },
  {
   "cell_type": "code",
   "execution_count": 10,
   "metadata": {},
   "outputs": [
    {
     "name": "stdout",
     "output_type": "stream",
     "text": [
      "what is\n",
      "how many\n",
      "what was\n",
      "what did\n",
      "when did\n",
      "when was\n",
      "in what\n",
      "what does\n",
      "who was\n",
      "what type\n",
      "what are\n",
      "how much\n",
      "what do\n",
      "where did\n",
      "who did\n",
      "who is\n",
      "where was\n",
      "what kind\n",
      "how did\n",
      "what year\n"
     ]
    }
   ],
   "source": [
    "s = []\n",
    "for cnt, thisid in enumerate(ids):\n",
    "    print(most_common[cnt][0])\n",
    "    s.append(evaluate.masked_evaluate(dataset_json['data'], predictions, thisid))"
   ]
  },
  {
   "cell_type": "code",
   "execution_count": 11,
   "metadata": {
    "collapsed": true
   },
   "outputs": [],
   "source": [
    "em = list(zip(*s)[0])\n",
    "f1 = list(zip(*s)[1])\n",
    "labs = [mc[0] + \" (\" + str(mc[1]) + \")\" for mc in most_common]\n",
    "\n",
    "_, em_sorted, f1_sorted, labs_sorted = zip(*sorted(zip(map(add, em, f1), em, f1, labs)))"
   ]
  },
  {
   "cell_type": "code",
   "execution_count": 12,
   "metadata": {},
   "outputs": [
    {
     "data": {
      "image/png": "[encoded data removed]",
      "text/plain": [
       "<matplotlib.figure.Figure at 0x11e6b9650>"
      ]
     },
     "metadata": {},
     "output_type": "display_data"
    }
   ],
   "source": [
    "plotidx = np.arange(N)  # the x locations for the groups\n",
    "width = 0.35       # the width of the bars\n",
    "\n",
    "plt.rcParams['figure.figsize'] = (16.0, 8.0)\n",
    "fig = plt.figure()\n",
    "ax = fig.add_subplot(121)\n",
    "rects1 = ax.bar(plotidx, em, width, color='royalblue')\n",
    "rects2 = ax.bar(plotidx+width, f1, width, color='seagreen')\n",
    "ax.set_ylabel('Scores')\n",
    "ax.set_xticks(plotidx + width / 2)\n",
    "ax.set_xticklabels(labs)\n",
    "plt.xticks(rotation=90)\n",
    "ax.legend(('EM', 'F1') )\n",
    "\n",
    "ax = fig.add_subplot(122)\n",
    "rects1 = ax.bar(plotidx, em_sorted, width, color='royalblue')\n",
    "rects2 = ax.bar(plotidx+width, f1_sorted, width, color='seagreen')\n",
    "ax.set_ylabel('Scores')\n",
    "ax.set_xticks(plotidx + width / 2)\n",
    "ax.set_xticklabels(labs_sorted)\n",
    "plt.xticks(rotation=90)\n",
    "ax.legend(('EM', 'F1') )\n",
    "\n",
    "plt.savefig('./figs/mostcommon.pdf', format='pdf')\n",
    "plt.show()"
   ]
  },
  {
   "cell_type": "code",
   "execution_count": 13,
   "metadata": {},
   "outputs": [
    {
     "name": "stdout",
     "output_type": "stream",
     "text": [
      "Loading GLoVE vectors from file: ../data/glove.6B.50d.txt\n"
     ]
    }
   ],
   "source": [
    "_, word2id, _ = get_glove('../data/glove.6B.50d.txt', 50)\n",
    "vocab = set(word2id.keys())"
   ]
  },
  {
   "cell_type": "code",
   "execution_count": 14,
   "metadata": {},
   "outputs": [
    {
     "data": {
      "text/plain": [
       "400002"
      ]
     },
     "execution_count": 14,
     "metadata": {},
     "output_type": "execute_result"
    }
   ],
   "source": [
    "len(vocab)"
   ]
  },
  {
   "cell_type": "code",
   "execution_count": 15,
   "metadata": {},
   "outputs": [
    {
     "data": {
      "image/png": "[encoded data removed]",
      "text/plain": [
       "<matplotlib.figure.Figure at 0x12ebea4d0>"
      ]
     },
     "metadata": {},
     "output_type": "display_data"
    }
   ],
   "source": [
    "x = [sum(q in vocab for q in context_token)/float(len(context_token)) for context_token in context_token_data]\n",
    "oov_frac = 1 - np.array(x)\n",
    "\n",
    "fig = plt.figure()\n",
    "ax = fig.add_subplot(111)\n",
    "plt.hist(oov_frac, bins=100)\n",
    "plt.show()"
   ]
  },
  {
   "cell_type": "code",
   "execution_count": 16,
   "metadata": {
    "collapsed": true
   },
   "outputs": [],
   "source": [
    "M = 3\n",
    "thresholds = np.linspace(0, 0.2, M)\n",
    "uuid_masks = [list(np.array(qn_uuid_data)[oov_frac <= thresh]) for thresh in thresholds]"
   ]
  },
  {
   "cell_type": "code",
   "execution_count": 17,
   "metadata": {
    "collapsed": true
   },
   "outputs": [],
   "source": [
    "s = []\n",
    "for cnt, uuid_mask in enumerate(uuid_masks):\n",
    "    s.append(evaluate.masked_evaluate(dataset_json['data'], predictions, uuid_mask))"
   ]
  },
  {
   "cell_type": "code",
   "execution_count": 18,
   "metadata": {},
   "outputs": [
    {
     "data": {
      "image/png": "[encoded data removed]",
      "text/plain": [
       "<matplotlib.figure.Figure at 0x11feadd90>"
      ]
     },
     "metadata": {},
     "output_type": "display_data"
    }
   ],
   "source": [
    "em = list(zip(*s)[0])\n",
    "f1 = list(zip(*s)[1])\n",
    "\n",
    "plotidx = np.arange(M)\n",
    "plt.rcParams['figure.figsize'] = (10.0, 8.0)\n",
    "fig = plt.figure()\n",
    "\n",
    "ax = fig.add_subplot(121)\n",
    "rects1 = ax.bar(plotidx,em, width, color='royalblue')\n",
    "ax.set_xticks(plotidx)\n",
    "ax.set_xticklabels(thresholds)\n",
    "plt.xticks(rotation=90)\n",
    "ax.set_ylim([59.9,61.9])\n",
    "\n",
    "ax = fig.add_subplot(122)\n",
    "rects1 = ax.bar(plotidx,f1, width, color='royalblue')\n",
    "ax.set_xticks(plotidx)\n",
    "ax.set_xticklabels(thresholds)\n",
    "plt.xticks(rotation=90)\n",
    "ax.set_ylim([70.9,72.4])\n",
    "\n",
    "plt.savefig('./figs/oov.pdf', format='pdf')\n",
    "plt.show() # at most\n"
   ]
  },
  {
   "cell_type": "code",
   "execution_count": 19,
   "metadata": {},
   "outputs": [
    {
     "data": {
      "text/plain": [
       "0.2129629629629629"
      ]
     },
     "execution_count": 19,
     "metadata": {},
     "output_type": "execute_result"
    }
   ],
   "source": [
    "np.amax(oov_frac)"
   ]
  },
  {
   "cell_type": "code",
   "execution_count": 68,
   "metadata": {},
   "outputs": [],
   "source": [
    "def makePlot(fname,subplot, fig):\n",
    "\n",
    "    example_num = 0 # index of example from pretty_print results\n",
    "    context_len = 110 # length of words in this example (printed to screen by pretty_print)\n",
    "    question_len = 10\n",
    "\n",
    "    attention = pickle.load( open( fname, \"rb\" ) )\n",
    "    attention = attention[example_num][:context_len,:question_len]\n",
    "\n",
    "    c = 'braddock ( with george washington as one of his aides ) led about 1,500 army troops and provincial militia on an expedition in june 1755 to take fort duquesne . the expedition was a disaster . it was attacked by french and indian soldiers ambushing them from up in trees and behind logs . braddock called for a retreat . he was killed . approximately 1,000 british soldiers were killed or injured . the remaining 500 british troops , led by george washington , retreated to virginia . two future opponents in the american revolutionary war , washington and thomas gage , played key roles in organizing the retreat .'\n",
    "    q = 'how much success did this expedition with braddock find ?'\n",
    "\n",
    "    c = c.split()\n",
    "    q = q.split()\n",
    "   \n",
    "    ax = fig.add_subplot(subplot)\n",
    "    plt.imshow(attention,aspect='auto',cmap='nipy_spectral')\n",
    "\n",
    "    ax.set_xticks(range(len(q)))\n",
    "    ax.set_xticklabels(q)\n",
    "    plt.xticks(rotation=90)\n",
    "\n",
    "    cwords = [0,12,13,14,15,29,30,31,32,33,34,35,64,65,66,67,75,76,77]\n",
    "    ax.set_yticks(cwords)\n",
    "    ax.set_yticklabels([c[i] for i in cwords])\n",
    "\n",
    "    plt.colorbar()"
   ]
  },
  {
   "cell_type": "code",
   "execution_count": 71,
   "metadata": {},
   "outputs": [
    {
     "data": {
      "image/png": "[encoded data removed]",
      "text/plain": [
       "<matplotlib.figure.Figure at 0x11fe3dd50>"
      ]
     },
     "metadata": {},
     "output_type": "display_data"
    }
   ],
   "source": [
    "plt.rcParams['figure.figsize'] = (20.0, 8.0)\n",
    "\n",
    "fig = plt.figure()\n",
    "makePlot('basic_alpha.p',121,fig)\n",
    "makePlot('bidaf_alpha.p',122,fig)\n",
    "plt.savefig('./figs/attention.pdf', format='pdf')\n",
    "plt.show()"
   ]
  },
  {
   "cell_type": "code",
   "execution_count": 73,
   "metadata": {},
   "outputs": [
    {
     "data": {
      "text/plain": [
       "['braddock',\n",
       " 'about',\n",
       " '1,500',\n",
       " 'army',\n",
       " 'troops',\n",
       " 'the',\n",
       " 'expedition',\n",
       " 'was',\n",
       " 'a',\n",
       " 'disaster',\n",
       " 'approximately',\n",
       " '1,000',\n",
       " 'british',\n",
       " 'soldiers',\n",
       " '500',\n",
       " 'british',\n",
       " 'troops']"
      ]
     },
     "execution_count": 73,
     "metadata": {},
     "output_type": "execute_result"
    }
   ],
   "source": [
    "c = 'braddock ( with george washington as one of his aides ) led about 1,500 army troops and provincial militia on an expedition in june 1755 to take fort duquesne . the expedition was a disaster . it was attacked by french and indian soldiers ambushing them from up in trees and behind logs . braddock called for a retreat . he was killed . approximately 1,000 british soldiers were killed or injured . the remaining 500 british troops , led by george washington , retreated to virginia . two future opponents in the american revolutionary war , washington and thomas gage , played key roles in organizing the retreat .'\n",
    "q = 'how much success did this expedition with braddock find ?'\n",
    "\n",
    "c = c.split()\n",
    "q = q.split()\n",
    "\n",
    "cwords = [0,12,13,14,15,30,31,32,33,34,64,65,66,67,75,76,77]\n",
    "[c[i] for i in cwords]"
   ]
  },
  {
   "cell_type": "code",
   "execution_count": null,
   "metadata": {
    "collapsed": true
   },
   "outputs": [],
   "source": []
  }
 ],
 "metadata": {
  "kernelspec": {
   "display_name": "cs224n",
   "language": "python",
   "name": "cs224n"
  },
  "language_info": {
   "codemirror_mode": {
    "name": "ipython",
    "version": 2
   },
   "file_extension": ".py",
   "mimetype": "text/x-python",
   "name": "python",
   "nbconvert_exporter": "python",
   "pygments_lexer": "ipython2",
   "version": "2.7.10"
  }
 },
 "nbformat": 4,
 "nbformat_minor": 2
}

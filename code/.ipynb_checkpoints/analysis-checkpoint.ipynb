{
 "cells": [
  {
   "cell_type": "code",
   "execution_count": 1,
   "metadata": {
    "scrolled": true
   },
   "outputs": [],
   "source": [
    "%load_ext autoreload\n",
    "%autoreload 2\n",
    "%matplotlib inline \n",
    "\n",
    "import os\n",
    "import json, time\n",
    "import tensorflow as tf\n",
    "import matplotlib.pyplot as plt\n",
    "import evaluate\n",
    "import numpy as np\n",
    "\n",
    "from nltk import FreqDist\n",
    "from qa_model import QAModel\n",
    "from vocab import get_glove\n",
    "from official_eval_helper import get_json_data, generate_answers\n",
    "from operator import add"
   ]
  },
  {
   "cell_type": "code",
   "execution_count": 2,
   "metadata": {
    "collapsed": true,
    "scrolled": true
   },
   "outputs": [],
   "source": [
    "json_file = '../data/dev-v1.1.json'\n",
    "qn_uuid_data, context_token_data, qn_token_data = get_json_data(json_file)"
   ]
  },
  {
   "cell_type": "code",
   "execution_count": 3,
   "metadata": {
    "scrolled": true
   },
   "outputs": [
    {
     "data": {
      "text/plain": [
       "10570"
      ]
     },
     "execution_count": 3,
     "metadata": {},
     "output_type": "execute_result"
    }
   ],
   "source": [
    "questions = [\" \".join(q) for q in qn_token_data]\n",
    "contexts  = [\" \".join(c) for c in context_token_data]\n",
    "len(questions)"
   ]
  },
  {
   "cell_type": "code",
   "execution_count": 4,
   "metadata": {
    "scrolled": true
   },
   "outputs": [
    {
     "data": {
      "text/plain": [
       "[(u'what is', 967),\n",
       " (u'how many', 543),\n",
       " (u'what was', 542),\n",
       " (u'what did', 376),\n",
       " (u'when did', 338),\n",
       " (u'when was', 243),\n",
       " (u'in what', 243),\n",
       " (u'what does', 221),\n",
       " (u'who was', 210),\n",
       " (u'what type', 193),\n",
       " (u'what are', 189),\n",
       " (u'how much', 138),\n",
       " (u'what do', 123),\n",
       " (u'where did', 123),\n",
       " (u'who did', 109),\n",
       " (u'who is', 97),\n",
       " (u'where was', 89),\n",
       " (u'what kind', 88),\n",
       " (u'how did', 79),\n",
       " (u'what year', 71)]"
      ]
     },
     "execution_count": 4,
     "metadata": {},
     "output_type": "execute_result"
    }
   ],
   "source": [
    "# what are the most common ways to begin questions\n",
    "N = 20\n",
    "question_starts = [\" \".join(q) for q in [q.split()[:2] for q in questions]]\n",
    "fd = FreqDist(question_starts)\n",
    "most_common = fd.most_common(N)\n",
    "least_common = fd.most_common()[-N:]\n",
    "most_common"
   ]
  },
  {
   "cell_type": "code",
   "execution_count": 5,
   "metadata": {
    "collapsed": true,
    "scrolled": true
   },
   "outputs": [],
   "source": [
    "prediction_file = 'predictions.json'\n",
    "with open(prediction_file) as prediction_file:\n",
    "    predictions = json.load(prediction_file)"
   ]
  },
  {
   "cell_type": "code",
   "execution_count": 6,
   "metadata": {
    "collapsed": true,
    "scrolled": true
   },
   "outputs": [],
   "source": [
    "with open(json_file) as jf:\n",
    "    dataset_json = json.load(jf)"
   ]
  },
  {
   "cell_type": "code",
   "execution_count": 7,
   "metadata": {
    "scrolled": true
   },
   "outputs": [
    {
     "data": {
      "text/plain": [
       "{'exact_match': 58.883632923368026, 'f1': 69.99206737708396}"
      ]
     },
     "execution_count": 7,
     "metadata": {},
     "output_type": "execute_result"
    }
   ],
   "source": [
    "evaluate.evaluate(dataset_json['data'], predictions)"
   ]
  },
  {
   "cell_type": "code",
   "execution_count": 8,
   "metadata": {
    "scrolled": true
   },
   "outputs": [],
   "source": [
    "def find(lst, a):\n",
    "    return [i for i, x in enumerate(lst) if x==a]\n",
    "\n",
    "def getIdx(main_list, indexes):\n",
    "    return [main_list[x] for x in indexes]"
   ]
  },
  {
   "cell_type": "code",
   "execution_count": 9,
   "metadata": {
    "scrolled": true
   },
   "outputs": [],
   "source": [
    "ids = [[] for i in range(N)]\n",
    "for cnt,mc in enumerate(most_common):\n",
    "    ids[cnt] = getIdx(qn_uuid_data, find(question_starts,mc[0]))"
   ]
  },
  {
   "cell_type": "code",
   "execution_count": 10,
   "metadata": {
    "scrolled": true
   },
   "outputs": [],
   "source": [
    "s = []\n",
    "for cnt, thisid in enumerate(ids):\n",
    "    print(most_common[cnt][0])\n",
    "    s.append(evaluate.masked_evaluate(dataset_json['data'], predictions, thisid))"
   ]
  },
  {
   "cell_type": "code",
   "execution_count": 11,
   "metadata": {
    "scrolled": true
   },
   "outputs": [],
   "source": [
    "em = list(zip(*s)[0])\n",
    "f1 = list(zip(*s)[1])\n",
    "labs = [mc[0] + \" (\" + str(mc[1]) + \")\" for mc in most_common]\n",
    "\n",
    "_, em_sorted, f1_sorted, labs_sorted = zip(*sorted(zip(map(add, em, f1), em, f1, labs)))"
   ]
  },
  {
   "cell_type": "code",
   "execution_count": 12,
   "metadata": {
    "scrolled": false
   },
   "outputs": [
    {
     "data": {
      "image/png": "[encoded data removed]",
      "text/plain": [
       "<matplotlib.figure.Figure at 0x115c11c50>"
      ]
     },
     "metadata": {},
     "output_type": "display_data"
    }
   ],
   "source": [
    "plotidx = np.arange(N)  # the x locations for the groups\n",
    "width = 0.35       # the width of the bars\n",
    "\n",
    "plt.rcParams['figure.figsize'] = (16.0, 8.0)\n",
    "fig = plt.figure()\n",
    "ax = fig.add_subplot(121)\n",
    "rects1 = ax.bar(plotidx, em, width, color='royalblue')\n",
    "rects2 = ax.bar(plotidx+width, f1, width, color='seagreen')\n",
    "ax.set_ylabel('Scores')\n",
    "ax.set_xticks(plotidx + width / 2)\n",
    "ax.set_xticklabels(labs)\n",
    "plt.xticks(rotation=90)\n",
    "ax.legend(('EM', 'F1') )\n",
    "\n",
    "ax = fig.add_subplot(122)\n",
    "rects1 = ax.bar(plotidx, em_sorted, width, color='royalblue')\n",
    "rects2 = ax.bar(plotidx+width, f1_sorted, width, color='seagreen')\n",
    "ax.set_ylabel('Scores')\n",
    "ax.set_xticks(plotidx + width / 2)\n",
    "ax.set_xticklabels(labs_sorted)\n",
    "plt.xticks(rotation=90)\n",
    "ax.legend(('EM', 'F1') )\n",
    "plt.show()"
   ]
  },
  {
   "cell_type": "code",
   "execution_count": 13,
   "metadata": {
    "collapsed": true,
    "scrolled": true
   },
   "outputs": [],
   "source": [
    "_, word2id, _ = get_glove('../data/glove.6B.50d.txt', 50)\n",
    "vocab = set(word2id.keys())"
   ]
  },
  {
   "cell_type": "code",
   "execution_count": 14,
   "metadata": {
    "scrolled": true
   },
   "outputs": [
    {
     "data": {
      "text/plain": [
       "400002"
      ]
     },
     "execution_count": 14,
     "metadata": {},
     "output_type": "execute_result"
    }
   ],
   "source": [
    "len(vocab)"
   ]
  },
  {
   "cell_type": "code",
   "execution_count": 15,
   "metadata": {},
   "outputs": [
    {
     "data": {
      "image/png": "[encoded data removed]",
      "text/plain": [
       "<matplotlib.figure.Figure at 0x111cf2e90>"
      ]
     },
     "metadata": {},
     "output_type": "display_data"
    }
   ],
   "source": [
    "x = [sum(q in vocab for q in context_token)/float(len(context_token)) for context_token in context_token_data]\n",
    "oov_frac = 1 - np.array(x)\n",
    "\n",
    "fig = plt.figure()\n",
    "ax = fig.add_subplot(111)\n",
    "plt.hist(oov_frac, bins=100)\n",
    "plt.show()"
   ]
  },
  {
   "cell_type": "code",
   "execution_count": 16,
   "metadata": {
    "scrolled": true
   },
   "outputs": [],
   "source": [
    "M = 4\n",
    "thresholds = np.linspace(0, 0.3, M)\n",
    "uuid_masks = [list(np.array(qn_uuid_data)[oov_frac <= thresh]) for thresh in thresholds]"
   ]
  },
  {
   "cell_type": "code",
   "execution_count": 17,
   "metadata": {
    "scrolled": false
   },
   "outputs": [],
   "source": [
    "s = []\n",
    "for cnt, uuid_mask in enumerate(uuid_masks):\n",
    "    s.append(evaluate.masked_evaluate(dataset_json['data'], predictions, uuid_mask))"
   ]
  },
  {
   "cell_type": "code",
   "execution_count": 18,
   "metadata": {},
   "outputs": [
    {
     "data": {
      "image/png": "[encoded data removed]",
      "text/plain": [
       "<matplotlib.figure.Figure at 0x1173e1810>"
      ]
     },
     "metadata": {},
     "output_type": "display_data"
    }
   ],
   "source": [
    "em = list(zip(*s)[0])\n",
    "f1 = list(zip(*s)[1])\n",
    "\n",
    "plotidx = np.arange(M)\n",
    "plt.rcParams['figure.figsize'] = (10.0, 8.0)\n",
    "fig = plt.figure()\n",
    "\n",
    "ax = fig.add_subplot(121)\n",
    "rects1 = ax.bar(plotidx,em, width, color='royalblue')\n",
    "ax.set_xticks(plotidx)\n",
    "ax.set_xticklabels(thresholds)\n",
    "plt.xticks(rotation=90)\n",
    "ax.set_ylim([58.5,60.65])\n",
    "\n",
    "ax = fig.add_subplot(122)\n",
    "rects1 = ax.bar(plotidx,f1, width, color='royalblue')\n",
    "ax.set_xticks(plotidx)\n",
    "ax.set_xticklabels(thresholds)\n",
    "plt.xticks(rotation=90)\n",
    "ax.set_ylim([69.9,71.2])\n",
    "\n",
    "plt.show() # at most\n"
   ]
  },
  {
   "cell_type": "code",
   "execution_count": null,
   "metadata": {
    "collapsed": true
   },
   "outputs": [],
   "source": []
  }
 ],
 "metadata": {
  "kernelspec": {
   "display_name": "cs224n",
   "language": "python",
   "name": "cs224n"
  },
  "language_info": {
   "codemirror_mode": {
    "name": "ipython",
    "version": 2
   },
   "file_extension": ".py",
   "mimetype": "text/x-python",
   "name": "python",
   "nbconvert_exporter": "python",
   "pygments_lexer": "ipython2",
   "version": "2.7.10"
  }
 },
 "nbformat": 4,
 "nbformat_minor": 2
}

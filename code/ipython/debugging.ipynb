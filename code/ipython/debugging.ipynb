{
 "cells": [
  {
   "cell_type": "code",
   "execution_count": 2,
   "metadata": {
    "collapsed": true
   },
   "outputs": [],
   "source": [
    "import tensorflow as tf\n",
    "from tensorflow.python.ops import rnn_cell\n",
    "import numpy as np"
   ]
  },
  {
   "cell_type": "code",
   "execution_count": 11,
   "metadata": {},
   "outputs": [
    {
     "data": {
      "text/plain": [
       "<tf.Tensor 'MatMul_2:0' shape=(2, 5, 4) dtype=int32>"
      ]
     },
     "execution_count": 11,
     "metadata": {},
     "output_type": "execute_result"
    }
   ],
   "source": [
    "a = tf.constant(np.arange(0, 30, dtype=np.int32), shape=[2, 5, 3])\n",
    "b = tf.constant(np.arange(0, 24, dtype=np.int32), shape=[2, 3, 4])\n",
    "c = tf.matmul(a, b)\n",
    "c"
   ]
  },
  {
   "cell_type": "code",
   "execution_count": 12,
   "metadata": {},
   "outputs": [
    {
     "name": "stdout",
     "output_type": "stream",
     "text": [
      "[[ 0  1  2]\n",
      " [ 3  4  5]\n",
      " [ 6  7  8]\n",
      " [ 9 10 11]\n",
      " [12 13 14]]\n",
      "~~~~\n",
      "[[ 0  1  2  3]\n",
      " [ 4  5  6  7]\n",
      " [ 8  9 10 11]]\n",
      "~~~~\n",
      "[[[  20   23   26   29]\n",
      "  [  56   68   80   92]\n",
      "  [  92  113  134  155]\n",
      "  [ 128  158  188  218]\n",
      "  [ 164  203  242  281]]\n",
      "\n",
      " [[ 776  824  872  920]\n",
      "  [ 920  977 1034 1091]\n",
      "  [1064 1130 1196 1262]\n",
      "  [1208 1283 1358 1433]\n",
      "  [1352 1436 1520 1604]]]\n"
     ]
    }
   ],
   "source": [
    "sess = tf.Session()\n",
    "print(sess.run(a[0]))\n",
    "print('~~~~~~~~')\n",
    "print(sess.run(b[0]))\n",
    "print('~~~~~~~~')\n",
    "print(sess.run(c))\n",
    "sess.close()"
   ]
  },
  {
   "cell_type": "code",
   "execution_count": 19,
   "metadata": {},
   "outputs": [
    {
     "name": "stdout",
     "output_type": "stream",
     "text": [
      "[[ 0.  1.  2.]\n",
      " [ 3.  4.  5.]\n",
      " [ 6.  7.  8.]\n",
      " [ 9. 10. 11.]\n",
      " [12. 13. 14.]]\n",
      "~~~~~~~~\n",
      "[[0.09003057 0.24472847 0.66524096]\n",
      " [0.09003057 0.24472847 0.66524096]\n",
      " [0.09003057 0.24472847 0.66524096]\n",
      " [0.09003057 0.24472847 0.66524096]\n",
      " [0.09003057 0.24472847 0.66524096]]\n",
      "~~~~~~~~\n",
      "[1. 1. 1. 1. 1.]\n"
     ]
    }
   ],
   "source": [
    "x = tf.constant(np.arange(0, 30, dtype=np.float),shape=[2, 5, 3])\n",
    "x2 = tf.nn.softmax(x,axis=2)\n",
    "\n",
    "sess = tf.Session()\n",
    "print(sess.run(x[0]))\n",
    "print('~~~~~~~~')\n",
    "print(sess.run(x2[0]))\n",
    "print('~~~~~~~~')\n",
    "print(np.sum(sess.run(x2[0]),axis=1))\n",
    "sess.close()"
   ]
  },
  {
   "cell_type": "code",
   "execution_count": 28,
   "metadata": {},
   "outputs": [
    {
     "name": "stdout",
     "output_type": "stream",
     "text": [
      "[[[0.]\n",
      "  [1.]\n",
      "  [2.]\n",
      "  [3.]\n",
      "  [4.]]\n",
      "\n",
      " [[5.]\n",
      "  [6.]\n",
      "  [7.]\n",
      "  [8.]\n",
      "  [9.]]]\n",
      "~~~~~~~~\n",
      "[[[ 0.  1.  2.]\n",
      "  [ 3.  4.  5.]\n",
      "  [ 6.  7.  8.]\n",
      "  [ 9. 10. 11.]\n",
      "  [12. 13. 14.]]]\n",
      "~~~~~~~~\n",
      "[[[  0.   0.   0.]\n",
      "  [  3.   4.   5.]\n",
      "  [ 12.  14.  16.]\n",
      "  [ 27.  30.  33.]\n",
      "  [ 48.  52.  56.]]\n",
      "\n",
      " [[  0.   5.  10.]\n",
      "  [ 18.  24.  30.]\n",
      "  [ 42.  49.  56.]\n",
      "  [ 72.  80.  88.]\n",
      "  [108. 117. 126.]]]\n"
     ]
    }
   ],
   "source": [
    "y = tf.constant(np.arange(0, 10, dtype=np.float), shape=[2, 5, 1])\n",
    "z = tf.constant(np.arange(0, 15, dtype=np.float), shape=[1, 5, 3])\n",
    "w = tf.multiply(y,z)\n",
    "\n",
    "sess = tf.Session()\n",
    "print(sess.run(y))\n",
    "print('~~~~~~~~')\n",
    "print(sess.run(z))\n",
    "print('~~~~~~~~')\n",
    "print(sess.run(w))\n",
    "sess.close()"
   ]
  },
  {
   "cell_type": "code",
   "execution_count": 2,
   "metadata": {},
   "outputs": [
    {
     "name": "stdout",
     "output_type": "stream",
     "text": [
      "[[16  7  1 12]\n",
      " [ 3  5  8 23]\n",
      " [ 2  0 20  6]]\n",
      "[[22 18  9 15]\n",
      " [21 17 13 19]\n",
      " [11 10 14  4]]\n"
     ]
    }
   ],
   "source": [
    "a = np.random.permutation(24).reshape(2,3,4)\n",
    "print(a[0])\n",
    "print(a[1])"
   ]
  },
  {
   "cell_type": "code",
   "execution_count": 4,
   "metadata": {},
   "outputs": [
    {
     "name": "stdout",
     "output_type": "stream",
     "text": [
      "[[1 0]\n",
      " [3 0]]\n"
     ]
    }
   ],
   "source": [
    "idx = np.transpose(np.asarray([np.unravel_index(np.argmax(x, axis=None), x.shape) for x in a]))\n",
    "print(idx)\n",
    "row_max = idx[0]\n",
    "col_max = idx[1]"
   ]
  },
  {
   "cell_type": "code",
   "execution_count": 11,
   "metadata": {},
   "outputs": [
    {
     "data": {
      "text/plain": [
       "[<tensorflow.python.ops.rnn_cell_impl.GRUCell at 0x10d3bdb10>,\n",
       " <tensorflow.python.ops.rnn_cell_impl.GRUCell at 0x10d3b8790>,\n",
       " <tensorflow.python.ops.rnn_cell_impl.GRUCell at 0x10d3b85d0>]"
      ]
     },
     "execution_count": 11,
     "metadata": {},
     "output_type": "execute_result"
    }
   ],
   "source": [
    "h = 100\n",
    "rnn_cell_fw = [rnn_cell.GRUCell(h) for _ in range(3)]\n",
    "rnn_cell_fw"
   ]
  },
  {
   "cell_type": "code",
   "execution_count": null,
   "metadata": {
    "collapsed": true
   },
   "outputs": [],
   "source": []
  }
 ],
 "metadata": {
  "kernelspec": {
   "display_name": "cs224n",
   "language": "python",
   "name": "cs224n"
  },
  "language_info": {
   "codemirror_mode": {
    "name": "ipython",
    "version": 2
   },
   "file_extension": ".py",
   "mimetype": "text/x-python",
   "name": "python",
   "nbconvert_exporter": "python",
   "pygments_lexer": "ipython2",
   "version": "2.7.10"
  }
 },
 "nbformat": 4,
 "nbformat_minor": 2
}

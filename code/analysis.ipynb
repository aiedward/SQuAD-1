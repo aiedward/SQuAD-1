{
 "cells": [
  {
   "cell_type": "code",
   "execution_count": 13,
   "metadata": {
    "collapsed": true
   },
   "outputs": [],
   "source": [
    "import os\n",
    "import json\n",
    "import tensorflow as tf\n",
    "\n",
    "from nltk import FreqDist\n",
    "from qa_model import QAModel\n",
    "from vocab import get_glove\n",
    "from official_eval_helper import get_json_data, generate_answers\n",
    "import evaluate"
   ]
  },
  {
   "cell_type": "code",
   "execution_count": 3,
   "metadata": {},
   "outputs": [],
   "source": [
    "json_file = '../data/dev-v1.1.json'\n",
    "qn_uuid_data, context_token_data, qn_token_data = get_json_data(json_file)"
   ]
  },
  {
   "cell_type": "code",
   "execution_count": 11,
   "metadata": {},
   "outputs": [
    {
     "data": {
      "text/plain": [
       "10570"
      ]
     },
     "execution_count": 11,
     "metadata": {},
     "output_type": "execute_result"
    }
   ],
   "source": [
    "questions = [\" \".join(q) for q in qn_token_data]\n",
    "contexts = [\" \".join(c) for c in context_token_data]\n",
    "len(questions)"
   ]
  },
  {
   "cell_type": "code",
   "execution_count": 14,
   "metadata": {},
   "outputs": [
    {
     "data": {
      "text/plain": [
       "[(u'what is', 967),\n",
       " (u'how many', 543),\n",
       " (u'what was', 542),\n",
       " (u'what did', 376),\n",
       " (u'when did', 338),\n",
       " (u'when was', 243),\n",
       " (u'in what', 243),\n",
       " (u'what does', 221),\n",
       " (u'who was', 210),\n",
       " (u'what type', 193),\n",
       " (u'what are', 189),\n",
       " (u'how much', 138),\n",
       " (u'what do', 123),\n",
       " (u'where did', 123),\n",
       " (u'who did', 109),\n",
       " (u'who is', 97),\n",
       " (u'where was', 89),\n",
       " (u'what kind', 88),\n",
       " (u'how did', 79),\n",
       " (u'what year', 71)]"
      ]
     },
     "execution_count": 14,
     "metadata": {},
     "output_type": "execute_result"
    }
   ],
   "source": [
    "# what are the most common ways to begin questions\n",
    "N = 20\n",
    "question_starts = [\" \".join(q) for q in [q.split()[:2] for q in questions]]\n",
    "fd = FreqDist(question_starts)\n",
    "most_common = fd.most_common(N)\n",
    "least_common = fd.most_common()[-N:]\n",
    "most_common"
   ]
  },
  {
   "cell_type": "code",
   "execution_count": 30,
   "metadata": {},
   "outputs": [],
   "source": [
    "# find ids of questions corresponding to most freq words\n",
    "ids = []\n",
    "most_common_mask = [[q==x[0] for q in question_starts] for x in most_common]"
   ]
  },
  {
   "cell_type": "code",
   "execution_count": null,
   "metadata": {
    "collapsed": true
   },
   "outputs": [],
   "source": []
  }
 ],
 "metadata": {
  "kernelspec": {
   "display_name": "cs224n",
   "language": "python",
   "name": "cs224n"
  },
  "language_info": {
   "codemirror_mode": {
    "name": "ipython",
    "version": 2
   },
   "file_extension": ".py",
   "mimetype": "text/x-python",
   "name": "python",
   "nbconvert_exporter": "python",
   "pygments_lexer": "ipython2",
   "version": "2.7.10"
  }
 },
 "nbformat": 4,
 "nbformat_minor": 2
}
